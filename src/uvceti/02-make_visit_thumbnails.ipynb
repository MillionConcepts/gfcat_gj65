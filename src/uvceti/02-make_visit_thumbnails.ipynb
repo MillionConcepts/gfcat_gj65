{
 "cells": [
  {
   "cell_type": "code",
   "execution_count": null,
   "metadata": {},
   "outputs": [],
   "source": [
    "from astropy.io import fits as pyfits\n",
    "from astropy import wcs as pywcs\n",
    "from astropy.visualization.mpl_normalize import ImageNormalize\n",
    "from astropy.visualization import SqrtStretch\n",
    "import matplotlib.pyplot as plt\n",
    "import numpy as np\n",
    "import os\n",
    "from photutils import CircularAperture"
   ]
  },
  {
   "cell_type": "code",
   "execution_count": null,
   "metadata": {},
   "outputs": [],
   "source": [
    "# Import the function definitions that accompany this notebook tutorial.\n",
    "nb_funcdef_file = \"function_defs.py\"\n",
    "if os.path.isfile(nb_funcdef_file):\n",
    "    from function_defs import listdir_contains\n",
    "else:\n",
    "    raise IOError(\"Could not find function definition file '\" + nb_funcdef_file + \"' that goes with this notebook.\")"
   ]
  },
  {
   "cell_type": "code",
   "execution_count": null,
   "metadata": {},
   "outputs": [],
   "source": [
    "# Restore the output directory.  Note: this assumes you've run the \"generate_products\" notebook already.  If not you\n",
    "# will need to specify the location of the products made from the \"generate_products\" notebook.\n",
    "%store -r data_directory\n",
    "# If you have not run the \"generate_products\" notebook during this session, uncomment the line below and specify\n",
    "# the location of the output products.\n",
    "#data_directory = \"./raw_files/\""
   ]
  },
  {
   "cell_type": "code",
   "execution_count": null,
   "metadata": {},
   "outputs": [],
   "source": [
    "# Locate the output FITS files.\n",
    "fuv_fits_files = listdir_contains(data_directory,'-fd.fits')\n",
    "nuv_fits_files = listdir_contains(data_directory,'-nd.fits')"
   ]
  },
  {
   "cell_type": "code",
   "execution_count": null,
   "metadata": {},
   "outputs": [],
   "source": [
    "imsz = [3600,3600]\n",
    "positions = ((imsz[0]/2,imsz[1]/2))\n",
    "apertures = CircularAperture(positions, r=8.533333333333326)\n",
    "n_visits = 9\n",
    "plt.figure(figsize=(8,4))\n",
    "for band in ['FUV','NUV']:\n",
    "    for i in np.arange(n_visits):\n",
    "        if band is 'FUV':\n",
    "            with pyfits.open(fuv_fits_files[i], mode=\"readonly\") as hdulist:\n",
    "                image = hdulist[0].data\n",
    "                wcs = pywcs.WCS(hdulist[0].header)\n",
    "            ax = plt.subplot(3,6,2*i+1,projection=wcs)\n",
    "            if (i<=2):\n",
    "                ax.set_title('FUV')\n",
    "        if band is 'NUV':\n",
    "            with pyfits.open(nuv_fits_files[i], mode=\"readonly\") as hdulist:\n",
    "                image = hdulist[0].data\n",
    "                wcs = pywcs.WCS(hdulist[0].header)\n",
    "            ax = plt.subplot(3,6,2*i+2,projection=wcs)\n",
    "            ax.coords[1].set_ticklabel_visible(False)\n",
    "            ax.coords[1].set_axislabel('')\n",
    "            if (i<=2):\n",
    "                ax.set_title('NUV')\n",
    "        ax.coords[0].set_ticklabel_visible(False)\n",
    "        ax.coords[0].set_axislabel('')\n",
    "        ax.coords[1].set_ticklabel_visible(False)\n",
    "        ax.coords[1].set_axislabel('')\n",
    "        ax.text(0.95, 0.05, '#{visit}'.format(visit=i+1),\n",
    "            verticalalignment='bottom', horizontalalignment='right',\n",
    "            transform=ax.transAxes, color='black', fontsize=8,\n",
    "            bbox={'facecolor':'white', 'alpha':0.8, 'pad':2})\n",
    "        norm = ImageNormalize(stretch=SqrtStretch())\n",
    "        ax.imshow(np.log10(image), cmap='Greys_r', origin='lower', norm=norm)\n",
    "        apertures.plot(color='blue', lw=2, alpha=1)\n",
    "        ax.set_xlim(imsz[0]/2-100, imsz[0]/2+100)\n",
    "        ax.set_ylim(imsz[1]/2-100, imsz[1]/2+100)\n",
    "        if band is 'NUV' and i == 2:\n",
    "            # Add an arrow showing the hotspot mask the first time it is clearly visible.\n",
    "            ax.arrow(1800, 1850, 50, -50, color=\"yellow\", head_width=6)\n",
    "plt.tight_layout()\n",
    "plt.subplots_adjust(top=0.9)\n",
    "plt.savefig('figures/thumbnails.eps',dpi=600)"
   ]
  }
 ],
 "metadata": {
  "kernelspec": {
   "display_name": "Python 3",
   "language": "python",
   "name": "python3"
  },
  "language_info": {
   "codemirror_mode": {
    "name": "ipython",
    "version": 3
   },
   "file_extension": ".py",
   "mimetype": "text/x-python",
   "name": "python",
   "nbconvert_exporter": "python",
   "pygments_lexer": "ipython3",
   "version": "3.6.8"
  }
 },
 "nbformat": 4,
 "nbformat_minor": 2
}
