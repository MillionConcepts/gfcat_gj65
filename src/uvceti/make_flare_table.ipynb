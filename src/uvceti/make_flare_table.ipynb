{
 "cells": [
  {
   "cell_type": "code",
   "execution_count": null,
   "metadata": {},
   "outputs": [],
   "source": [
    "from matplotlib import pyplot as plt\n",
    "import numpy as np\n",
    "import os\n",
    "import pandas as pd\n",
    "from gPhoton import galextools as gt"
   ]
  },
  {
   "cell_type": "code",
   "execution_count": null,
   "metadata": {},
   "outputs": [],
   "source": [
    "# Import the function definitions that accompany this notebook tutorial.\n",
    "nb_funcdef_file = \"function_defs.py\"\n",
    "if os.path.isfile(nb_funcdef_file):\n",
    "    from function_defs import listdir_contains, read_lightcurve, refine_flare_ranges, calculate_flare_energy\n",
    "    from function_defs import is_left_censored, is_right_censored, is_peak_censored, peak_flux, peak_time\n",
    "else:\n",
    "    raise IOError(\"Could not find function definition file '\" + nb_funcdef_file + \"' that goes with this notebook.\")"
   ]
  },
  {
   "cell_type": "code",
   "execution_count": null,
   "metadata": {},
   "outputs": [],
   "source": [
    "# Restore the output directory.  Note: this assumes you've run the \"generate_products\" notebook already.  If not you\n",
    "# will need to specify the location of the products made from the \"generate_products\" notebook.\n",
    "%store -r data_directory\n",
    "# If you have not run the \"generate_products\" notebook during this session, uncomment the line below and specify\n",
    "# the location of the output products.\n",
    "#data_directory = \"./raw_files/\""
   ]
  },
  {
   "cell_type": "code",
   "execution_count": null,
   "metadata": {},
   "outputs": [],
   "source": [
    "# Restore the distance parameter.  Note: this assumes you've run the \"generate_products\" notebook already.  If not you\n",
    "# will need to specify the distane to use.\n",
    "%store -r distance\n",
    "# If you have not run the \"generate_products\" notebook during this session, uncomment the line below and specify\n",
    "# the distance to the system in parsecs.\n",
    "#distance = 1/(372.1631/1000) # parsecs"
   ]
  },
  {
   "cell_type": "code",
   "execution_count": null,
   "metadata": {},
   "outputs": [],
   "source": [
    "# Locate the photon files.\n",
    "photon_files = {'NUV':listdir_contains(data_directory,'nd-30s.csv'),\n",
    "                'FUV':listdir_contains(data_directory,'fd-30s.csv')}"
   ]
  },
  {
   "cell_type": "code",
   "execution_count": null,
   "metadata": {},
   "outputs": [],
   "source": [
    "# Make the table of flare properties in the paper.\n",
    "flare_table = pd.DataFrame()\n",
    "n_visits = 10\n",
    "expts = []\n",
    "for i in np.arange(n_visits):\n",
    "    lc_nuv = read_lightcurve(photon_files['NUV'][i])\n",
    "    expts += [len(lc_nuv)*30]\n",
    "    lc_fuv = read_lightcurve(photon_files['FUV'][i])\n",
    "    (flare_ranges, quiescence, quiescence_err) = refine_flare_ranges(lc_nuv, makeplot=False)\n",
    "    (flare_ranges_fuv, quiescence_fuv, quiescence_err_fuv) = refine_flare_ranges(lc_fuv, makeplot=False)\n",
    "    \n",
    "    if i==8: # override the algorithmic detection for this visit, decomposing it into two flares\n",
    "        flare_ranges = [[5, 6, 7, 8, 9, 10, 11, 12, 13, 14, 15, 16, 17],\n",
    "                        [17, 18, 19, 20, 21, 22, 23, 24, 25, 26, 27, 28, 29, 30]]\n",
    "    for flare_range in flare_ranges:\n",
    "        # Check that flux is simultaneously >3-sigma above quiescence in both bands\n",
    "        nuv_3sig = np.array(flare_range)[np.where((np.array(lc_nuv['cps'].iloc[flare_range].values)-\n",
    "                             3*np.array(lc_nuv['cps_err'].iloc[flare_range].values)>=quiescence))[0]].tolist()\n",
    "        fuv_3sig = np.where((np.array(lc_fuv['cps'].values)-\n",
    "                             3*np.array(lc_fuv['cps_err'].values)>=quiescence_fuv))[0]\n",
    "        real = (any(set(nuv_3sig) & set(fuv_3sig)) or (len(nuv_3sig)>1)) # force detection conditions\n",
    "        if not real:\n",
    "            continue\n",
    "\n",
    "        flare_data = {'visit_num':i,'flare_num':len(flare_table)+1,'duration':len(flare_range)*30}\n",
    "        energy_nuv = calculate_flare_energy(lc_nuv, flare_range, distance, binsize=30, band='NUV',\n",
    "                           quiescence=[quiescence,quiescence_err])\n",
    "        energy_fuv = calculate_flare_energy(lc_fuv, flare_range, distance, binsize=30, band='FUV')\n",
    "        nuv_sn = max(((np.array(lc_nuv['cps'].iloc[flare_range].values) -\n",
    "                       3*np.array(lc_nuv['cps_err'].iloc[flare_range].values)) / quiescence))\n",
    "        flare_data['energy_nuv'] = energy_nuv[0]\n",
    "        flare_data['energy_err_nuv'] = energy_nuv[1]\n",
    "        flare_data['energy_fuv'] = energy_fuv[0]\n",
    "        flare_data['energy_err_fuv'] = energy_fuv[1]\n",
    "        flare_data['nuv_sn'] = nuv_sn\n",
    "        flare_data['left_censored'] = is_left_censored(flare_range)\n",
    "        flare_data['right_censored'] = is_right_censored(lc_nuv,flare_range)\n",
    "        flare_data['peak_flux_nuv'] = peak_flux(lc_nuv,flare_range)\n",
    "        flare_data['peak_t0_nuv'] = peak_time(lc_nuv,flare_range)\n",
    "        flare_data['peak_censored'] = is_peak_censored(lc_nuv,flare_range)\n",
    "        flare_data['peak_flux_fuv'] = peak_flux(lc_fuv,flare_range)\n",
    "        flare_data['peak_t0_fuv'] = peak_time(lc_fuv,flare_range)\n",
    "        flare_data['quiescence_nuv'] = quiescence\n",
    "        flare_data['quiescence_err_nuv'] = quiescence_err\n",
    "        flare_table = flare_table.append(flare_data,ignore_index=True)\n",
    "        # Make plots\n",
    "        plt.figure(figsize=(16,4))\n",
    "        plt.title(' visit #{i}, flare #{m}) -- '.format(real=real,i=i+1,m=len(flare_table)))\n",
    "        plt.errorbar(lc_fuv['t0']-min(lc_nuv['t0']),\n",
    "                         lc_fuv['flux_apcorrected'],\n",
    "                         yerr=3*lc_fuv['flux_err'],fmt='rx-',alpha=0.5,label='FUV')\n",
    "        plt.errorbar(lc_nuv['t0']-min(lc_nuv['t0']),\n",
    "                         lc_nuv['flux_apcorrected'],\n",
    "                         yerr=3*lc_nuv['flux_err'],fmt='kx-',label='NUV')\n",
    "        plt.plot(lc_nuv['t0'].iloc[flare_range]-min(lc_nuv['t0']),\n",
    "                     lc_nuv['flux_apcorrected'].iloc[flare_range],'bo',\n",
    "                     label = '{e} +/- {e_err} log10(ergs)'.format(\n",
    "                         e=np.round(np.log10(energy_nuv[0]),2),\n",
    "                         e_err=np.round(np.log10(energy_nuv[1]),2)))\n",
    "        plt.hlines(gt.counts2flux(quiescence,'NUV'),lc_nuv['t0'].min()-min(lc_nuv['t0']),\n",
    "                                                        lc_nuv['t0'].max()-min(lc_nuv['t0']),\n",
    "                       label='NUV quiescence',linestyles='dashed',color='r')\n",
    "        plt.hlines(gt.counts2flux(quiescence_fuv,'FUV'),lc_nuv['t0'].min()-min(lc_nuv['t0']),\n",
    "                                                            lc_nuv['t0'].max()-min(lc_nuv['t0']),\n",
    "                       label='FUV quiescence',linestyles='dotted',color='b')\n",
    "        t_buffer = (1050-flare_data['duration'])/2\n",
    "        plt.xlim([lc_nuv['t0'].iloc[flare_range].min()-min(lc_nuv['t0'])-t_buffer,\n",
    "                      lc_nuv['t1'].iloc[flare_range].max()-min(lc_nuv['t0'])+t_buffer])\n",
    "        plt.ylim([max((lc_nuv['flux_apcorrected']-4*lc_nuv['flux_err']).iloc[flare_range].min(),\n",
    "                          (lc_fuv['flux_apcorrected']-4*lc_fuv['flux_err']).iloc[flare_range].min()),\n",
    "                      max((lc_nuv['flux_apcorrected']+4*lc_nuv['flux_err']).iloc[flare_range].max(),\n",
    "                          (lc_fuv['flux_apcorrected']+4*lc_fuv['flux_err']).iloc[flare_range].max())])\n",
    "        plt.legend()\n",
    "        plt.xlabel('Seconds from start of visit')\n",
    "        plt.ylabel('Flux units')\n",
    "        plt.savefig('figures/flare_{m}.png'.format(m=len(flare_table)),dpi=400)"
   ]
  },
  {
   "cell_type": "code",
   "execution_count": null,
   "metadata": {},
   "outputs": [],
   "source": [
    "# Reformat the energy measurements to include error bars and reasonable sigfigs\n",
    "nuv_energy_string, fuv_energy_string = [], []\n",
    "for e, e_err in zip(np.array(np.log10(flare_table['energy_nuv']), dtype='float16'),\n",
    "                   np.array(np.log10(flare_table['energy_err_nuv']), dtype='float16')):\n",
    "    nuv_energy_string += ['{:4.2f} pm {:4.2f}'.format(e, e_err, 2)]\n",
    "for e, e_err in zip(np.array(np.log10(flare_table['energy_fuv']), dtype='float16'),\n",
    "                   np.array(np.log10(flare_table['energy_err_fuv']), dtype='float16')):\n",
    "    fuv_energy_string += ['{:4.2f} pm {:4.2f}'.format(e, e_err, 2)]\n",
    "\n",
    "# Reformat the peak timestamps\n",
    "t = pd.to_datetime(flare_table['peak_t0_nuv'] + gt.GPSSECS, unit='s')\n",
    "t.iloc[np.where(np.array(flare_table['peak_censored'], dtype='bool'))] = 'peak not measured'\n",
    "\n",
    "# Convert key columns in the flare table into a format suitable for printing in a LaTeX table\n",
    "summary_table = pd.DataFrame({\n",
    "    'Flare #':np.array(flare_table['flare_num'],dtype='int16'),\n",
    "    'Visit #':np.array(flare_table['visit_num'],dtype='int16')+1,\n",
    "    'NUV Peak Time (UTC)':t,\n",
    "    'NUV S:N':flare_table['nuv_sn'],\n",
    "    'Duration (min.)':np.array(flare_table['duration']/60.,dtype='float16'),\n",
    "    'NUV Energy*':nuv_energy_string,\n",
    "    'FUV Energy*':fuv_energy_string,\n",
    "})\n",
    "print(summary_table.to_latex(index=False))"
   ]
  },
  {
   "cell_type": "code",
   "execution_count": null,
   "metadata": {},
   "outputs": [],
   "source": []
  }
 ],
 "metadata": {
  "kernelspec": {
   "display_name": "Python 3",
   "language": "python",
   "name": "python3"
  },
  "language_info": {
   "codemirror_mode": {
    "name": "ipython",
    "version": 3
   },
   "file_extension": ".py",
   "mimetype": "text/x-python",
   "name": "python",
   "nbconvert_exporter": "python",
   "pygments_lexer": "ipython3",
   "version": "3.6.8"
  }
 },
 "nbformat": 4,
 "nbformat_minor": 2
}
