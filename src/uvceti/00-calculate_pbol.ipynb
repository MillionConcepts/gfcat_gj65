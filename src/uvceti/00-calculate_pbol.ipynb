{
 "cells": [
  {
   "cell_type": "code",
   "execution_count": 1,
   "metadata": {},
   "outputs": [],
   "source": [
    "import os\n",
    "import numpy as np\n",
    "from scipy import integrate\n",
    "from astropy.modeling.blackbody import blackbody_lambda\n",
    "from astropy import units as u"
   ]
  },
  {
   "cell_type": "code",
   "execution_count": 2,
   "metadata": {},
   "outputs": [],
   "source": [
    "# Ratio of continuum energy to bolometric energy, per Osten & Wolk (2015).\n",
    "Econt_Ebol = 0.6"
   ]
  },
  {
   "cell_type": "code",
   "execution_count": 3,
   "metadata": {},
   "outputs": [],
   "source": [
    "# Calculate continuum emission of 10,000 K blackbody.\n",
    "cont = np.arange(1400, 10000, 1) * u.AA\n",
    "bb_cont = blackbody_lambda(in_x=cont, temperature=10000 * u.Kelvin)"
   ]
  },
  {
   "cell_type": "code",
   "execution_count": 4,
   "metadata": {},
   "outputs": [],
   "source": [
    "# This handy little function will read in a filter profile file from the SVO Filter Service so we can get the\n",
    "# approximate min. and max. wavelength of a filter.\n",
    "def read_svo_file(ifile):\n",
    "    with open(ifile, 'r') as inputf:\n",
    "        flines = inputf.readlines()\n",
    "    # Parse to get first wavelength with non-zero transmission in the file.\n",
    "    start_wl = None\n",
    "    index = 0\n",
    "    while start_wl is None:\n",
    "        if index < len(flines):\n",
    "            if float(flines[index].strip().split()[1]) > 5.0:\n",
    "                start_wl = float(flines[index].strip().split()[0])\n",
    "        else:\n",
    "            break\n",
    "        index += 1\n",
    "    # Parse to get last wavelength with non-zero transmission in the file.\n",
    "    end_wl = None\n",
    "    index = -1\n",
    "    while end_wl is None:\n",
    "        if index > -1*len(flines):\n",
    "            if float(flines[index].strip().split()[1]) > 5.0:\n",
    "                end_wl = float(flines[index].strip().split()[0])\n",
    "        else:\n",
    "            break\n",
    "        index -= 1\n",
    "    return (start_wl, end_wl)"
   ]
  },
  {
   "cell_type": "code",
   "execution_count": 5,
   "metadata": {},
   "outputs": [
    {
     "name": "stdout",
     "output_type": "stream",
     "text": [
      "p_bol (NUV) =  0.13331626928915136\n",
      "NOTE: p_bol (NUV) using 1771 and 2831 Angstroms as start/stop like in Brasseur et al. 2019: 0.13152561432613658\n"
     ]
    }
   ],
   "source": [
    "# Reproduce the NUV calculation from Brasseur et al. (2019) of the fraction of the bolometric luminosity contained\n",
    "# within the GALEX NUV band.  Instead of using the filter wavelength range cited in their paper, we rely on the SVO\n",
    "# filter service and consider the start and end wavelengths to be those that have at least 5% transmission\n",
    "#(we note the results are essentially identical and well within the uncertainties in the approximate calculation).\n",
    "nuv_filter_file = \"GALEX_GALEX.NUV.dat.txt\"\n",
    "if os.path.isfile(nuv_filter_file):\n",
    "    start_wl, end_wl = read_svo_file(nuv_filter_file)\n",
    "else:\n",
    "    raise IOError(\"Missing SVO lookup file: \" + nuv_filter_file + \" from repository.\")\n",
    "nuv = np.arange(start_wl, end_wl, 1) * u.AA\n",
    "bb_nuv = blackbody_lambda(in_x=nuv, temperature=10000 * u.Kelvin)\n",
    "ENUV_Econt = np.trapz(x=nuv, y=bb_nuv) / np.trapz(x=cont, y=bb_cont)\n",
    "print('p_bol (NUV) = ', float(ENUV_Econt) * Econt_Ebol)\n",
    "print('NOTE: p_bol (NUV) using 1771 and 2831 Angstroms as start/stop like in Brasseur et al. 2019:'\n",
    "          ' 0.13152561432613658')"
   ]
  },
  {
   "cell_type": "code",
   "execution_count": 6,
   "metadata": {},
   "outputs": [
    {
     "name": "stdout",
     "output_type": "stream",
     "text": [
      "p_bol (FUV) =  0.020583537488146248\n"
     ]
    }
   ],
   "source": [
    "# Compute the fraction of the bolometric luminosity contained within the GALEX FUV band.\n",
    "fuv_filter_file = \"GALEX_GALEX.FUV.dat.txt\"\n",
    "if os.path.isfile(fuv_filter_file):\n",
    "    start_wl, end_wl = read_svo_file(fuv_filter_file)\n",
    "else:\n",
    "    raise IOError(\"Missing SVO lookup file: \" + fuv_filter_file + \" from repository.\")\n",
    "fuv = np.arange(start_wl, end_wl, 1) * u.AA\n",
    "bb_fuv = blackbody_lambda(in_x=fuv, temperature=10000 * u.Kelvin)\n",
    "EFUV_Econt = np.trapz(x=fuv, y=bb_fuv) / np.trapz(x=cont, y=bb_cont)\n",
    "print('p_bol (FUV) = ', float(EFUV_Econt) * Econt_Ebol)"
   ]
  },
  {
   "cell_type": "markdown",
   "metadata": {},
   "source": [
    "Compute the p_bol fraction for Johnson U-band, Kepler, and TESS bandpasses."
   ]
  },
  {
   "cell_type": "code",
   "execution_count": null,
   "metadata": {},
   "outputs": [],
   "source": []
  }
 ],
 "metadata": {
  "kernelspec": {
   "display_name": "Python 3",
   "language": "python",
   "name": "python3"
  },
  "language_info": {
   "codemirror_mode": {
    "name": "ipython",
    "version": 3
   },
   "file_extension": ".py",
   "mimetype": "text/x-python",
   "name": "python",
   "nbconvert_exporter": "python",
   "pygments_lexer": "ipython3",
   "version": "3.7.4"
  }
 },
 "nbformat": 4,
 "nbformat_minor": 2
}
