{
 "cells": [
  {
   "cell_type": "code",
   "execution_count": 1,
   "metadata": {},
   "outputs": [],
   "source": [
    "import os\n",
    "import numpy as np\n",
    "from scipy import integrate\n",
    "from astropy.modeling.blackbody import blackbody_lambda\n",
    "from astropy import units as u"
   ]
  },
  {
   "cell_type": "code",
   "execution_count": 2,
   "metadata": {},
   "outputs": [],
   "source": [
    "# Ratio of continuum energy to bolometric energy, per Osten & Wolk (2015).\n",
    "Econt_Ebol = 0.6"
   ]
  },
  {
   "cell_type": "code",
   "execution_count": 3,
   "metadata": {},
   "outputs": [],
   "source": [
    "# Calculate continuum emission of 10,000 K blackbody.\n",
    "cont = np.arange(1400, 10000, 1) * u.AA\n",
    "bb_cont = blackbody_lambda(in_x=cont, temperature=10000 * u.Kelvin)"
   ]
  },
  {
   "cell_type": "code",
   "execution_count": 4,
   "metadata": {},
   "outputs": [],
   "source": [
    "# This handy little function will read in a filter profile file from the SVO Filter Service so we can get the\n",
    "# approximate min. and max. wavelength of a filter.\n",
    "def read_svo_file(ifile, min_area=0., min_trans=0., is_transmission=False):\n",
    "    \"\"\"\n",
    "    If the SVO filter contains effective area in cm^2, just specify the\n",
    "    optional 'min_area' parameter to ignore those below a certain threshold.\n",
    "    If the SVO filter file contains transmission percentage, set the\n",
    "    'is_transmission' flag to True and the optional 'min_trans' to ignore\n",
    "    those wavelengths below that threshold instead.\n",
    "    NOTE: If transmissions, it assumes they are stored as fractions (i.e.,\n",
    "    0.0 <= trans <= 1.0).\n",
    "    \"\"\"\n",
    "    with open(ifile, 'r') as inputf:\n",
    "        flines = inputf.readlines()\n",
    "    # Parse to get first wavelength with non-zero transmission in the file.\n",
    "    start_wl = None\n",
    "    index = 0\n",
    "    while start_wl is None:\n",
    "        if index < len(flines):\n",
    "            if is_transmission:\n",
    "                if float(flines[index].strip().split()[1]) > min_trans:\n",
    "                    start_wl = float(flines[index].strip().split()[0])\n",
    "            else:\n",
    "                if float(flines[index].strip().split()[1]) > min_area:\n",
    "                    start_wl = float(flines[index].strip().split()[0])\n",
    "        else:\n",
    "            break\n",
    "        index += 1\n",
    "    # Parse to get last wavelength with non-zero transmission in the file.\n",
    "    end_wl = None\n",
    "    index = -1\n",
    "    while end_wl is None:\n",
    "        if index > -1*len(flines):\n",
    "            if is_transmission:\n",
    "                if float(flines[index].strip().split()[1]) > min_trans:\n",
    "                    end_wl = float(flines[index].strip().split()[0])\n",
    "            else:\n",
    "                if float(flines[index].strip().split()[1]) > min_area:\n",
    "                    end_wl = float(flines[index].strip().split()[0])\n",
    "        else:\n",
    "            break\n",
    "        index -= 1\n",
    "    return (start_wl, end_wl)"
   ]
  },
  {
   "cell_type": "code",
   "execution_count": 5,
   "metadata": {},
   "outputs": [
    {
     "name": "stdout",
     "output_type": "stream",
     "text": [
      "p_bol (NUV) =  0.13331626928915136\n",
      "NOTE: p_bol (NUV) using 1771 and 2831 Angstroms as start/stop like in Brasseur et al. 2019: 0.13152561432613658\n"
     ]
    }
   ],
   "source": [
    "# Reproduce the NUV calculation from Brasseur et al. (2019) of the fraction of the bolometric luminosity contained\n",
    "# within the GALEX NUV band.  Instead of using the filter wavelength range cited in their paper, we rely on the SVO\n",
    "# filter service and consider the start and end wavelengths to be those that have an effective area of least 5 cm^2\n",
    "# (we note the results are essentially identical and well within the uncertainties in the approximate calculation).\n",
    "nuv_filter_file = \"GALEX_GALEX.NUV.dat.txt\"\n",
    "if os.path.isfile(nuv_filter_file):\n",
    "    start_wl, end_wl = read_svo_file(nuv_filter_file, min_area=5)\n",
    "else:\n",
    "    raise IOError(\"Missing SVO lookup file: \" + nuv_filter_file + \" from repository.\")\n",
    "nuv = np.arange(start_wl, end_wl, 1) * u.AA\n",
    "bb_nuv = blackbody_lambda(in_x=nuv, temperature=10000 * u.Kelvin)\n",
    "ENUV_Econt = np.trapz(x=nuv, y=bb_nuv) / np.trapz(x=cont, y=bb_cont)\n",
    "print('p_bol (NUV) = ', float(ENUV_Econt) * Econt_Ebol)\n",
    "print('NOTE: p_bol (NUV) using 1771 and 2831 Angstroms as start/stop like in Brasseur et al. 2019:'\n",
    "          ' 0.13152561432613658')"
   ]
  },
  {
   "cell_type": "code",
   "execution_count": 6,
   "metadata": {},
   "outputs": [
    {
     "name": "stdout",
     "output_type": "stream",
     "text": [
      "p_bol (FUV) =  0.020583537488146248\n"
     ]
    }
   ],
   "source": [
    "# Compute the fraction of the bolometric luminosity contained within the GALEX FUV band.\n",
    "fuv_filter_file = \"GALEX_GALEX.FUV.dat.txt\"\n",
    "if os.path.isfile(fuv_filter_file):\n",
    "    start_wl, end_wl = read_svo_file(fuv_filter_file, min_area=5)\n",
    "else:\n",
    "    raise IOError(\"Missing SVO lookup file: \" + fuv_filter_file + \" from repository.\")\n",
    "fuv = np.arange(start_wl, end_wl, 1) * u.AA\n",
    "bb_fuv = blackbody_lambda(in_x=fuv, temperature=10000 * u.Kelvin)\n",
    "EFUV_Econt = np.trapz(x=fuv, y=bb_fuv) / np.trapz(x=cont, y=bb_cont)\n",
    "print('p_bol (FUV) = ', float(EFUV_Econt) * Econt_Ebol)"
   ]
  },
  {
   "cell_type": "markdown",
   "metadata": {},
   "source": [
    "Compute the p_bol fraction for Johnson U-band, Kepler, and TESS bandpasses."
   ]
  },
  {
   "cell_type": "code",
   "execution_count": 7,
   "metadata": {},
   "outputs": [
    {
     "name": "stdout",
     "output_type": "stream",
     "text": [
      "p_bol (Johnson U) =  0.11018768905750259\n"
     ]
    }
   ],
   "source": [
    "# Johnson U-band.\n",
    "uj_filter_file = \"Generic_Johnson.U.dat.txt\"\n",
    "if os.path.isfile(uj_filter_file):\n",
    "    start_wl, end_wl = read_svo_file(uj_filter_file, is_transmission=True,\n",
    "                                        min_trans=0.05)\n",
    "else:\n",
    "    raise IOError(\"Missing SVO lookup file: \" + uj_filter_file + \" from repository.\")\n",
    "uj = np.arange(start_wl, end_wl, 1) * u.AA\n",
    "bb_uj = blackbody_lambda(in_x=uj, temperature=10000 * u.Kelvin)\n",
    "EUJ_Econt = np.trapz(x=uj, y=bb_uj) / np.trapz(x=cont, y=bb_cont)\n",
    "print('p_bol (Johnson U) = ', float(EUJ_Econt) * Econt_Ebol)"
   ]
  },
  {
   "cell_type": "code",
   "execution_count": 8,
   "metadata": {},
   "outputs": [
    {
     "name": "stdout",
     "output_type": "stream",
     "text": [
      "p_bol (Kepler) =  0.24104630049720632\n"
     ]
    }
   ],
   "source": [
    "# Kepler band.\n",
    "kepler_filter_file = \"Kepler_Kepler.K.dat.txt\"\n",
    "if os.path.isfile(kepler_filter_file):\n",
    "    start_wl, end_wl = read_svo_file(kepler_filter_file,\n",
    "                                        is_transmission=True,\n",
    "                                        min_trans=0.05)\n",
    "else:\n",
    "    raise IOError(\"Missing SVO lookup file: \" + kepler_filter_file + \" from repository.\")\n",
    "kep = np.arange(start_wl, end_wl, 1) * u.AA\n",
    "bb_kep = blackbody_lambda(in_x=kep, temperature=10000 * u.Kelvin)\n",
    "EKEP_Econt = np.trapz(x=kep, y=bb_kep) / np.trapz(x=cont, y=bb_cont)\n",
    "print('p_bol (Kepler) = ', float(EKEP_Econt) * Econt_Ebol)"
   ]
  },
  {
   "cell_type": "code",
   "execution_count": 9,
   "metadata": {},
   "outputs": [
    {
     "name": "stdout",
     "output_type": "stream",
     "text": [
      "p_bol (TESS) =  0.13555505263965456\n"
     ]
    }
   ],
   "source": [
    "# TESS band.\n",
    "tess_filter_file = \"TESS_TESS.Red.dat.txt\"\n",
    "if os.path.isfile(tess_filter_file):\n",
    "    start_wl, end_wl = read_svo_file(tess_filter_file,\n",
    "                                        is_transmission=True,\n",
    "                                        min_trans=0.05)\n",
    "else:\n",
    "    raise IOError(\"Missing SVO lookup file: \" + tess_filter_file + \" from repository.\")\n",
    "tess = np.arange(start_wl, end_wl, 1) * u.AA\n",
    "bb_tess = blackbody_lambda(in_x=tess, temperature=10000 * u.Kelvin)\n",
    "ETESS_Econt = np.trapz(x=tess, y=bb_tess) / np.trapz(x=cont, y=bb_cont)\n",
    "print('p_bol (TESS) = ', float(ETESS_Econt) * Econt_Ebol)"
   ]
  },
  {
   "cell_type": "markdown",
   "metadata": {},
   "source": [
    "The bolometric fraction of the Evryscope g' filter is stated directly in Howard et al. 2019 following the same technique, and is p_bol(evryscope) = 0.19."
   ]
  },
  {
   "cell_type": "code",
   "execution_count": 11,
   "metadata": {},
   "outputs": [
    {
     "name": "stdout",
     "output_type": "stream",
     "text": [
      "p_bol (Evryscope) =  0.19\n"
     ]
    }
   ],
   "source": [
    "print('p_bol (Evryscope) = ', 0.19)"
   ]
  },
  {
   "cell_type": "code",
   "execution_count": 15,
   "metadata": {},
   "outputs": [
    {
     "name": "stdout",
     "output_type": "stream",
     "text": [
      "p_bol (Evryscope, ignoring <5% transmission) =  0.15888794683609475\n"
     ]
    }
   ],
   "source": [
    "# Evryscope g' band.\n",
    "gp_filter_file = \"SLOAN_SDSS.gprime_filter.dat.txt\"\n",
    "if os.path.isfile(gp_filter_file):\n",
    "    start_wl, end_wl = read_svo_file(gp_filter_file,\n",
    "                                        is_transmission=True,\n",
    "                                        min_trans=0.05)\n",
    "else:\n",
    "    raise IOError(\"Missing SVO lookup file: \" + gp_filter_file + \" from repository.\")\n",
    "gp = np.arange(start_wl, end_wl, 1) * u.AA\n",
    "bb_gp = blackbody_lambda(in_x=gp, temperature=10000 * u.Kelvin)\n",
    "EGP_Econt = np.trapz(x=gp, y=bb_gp) / np.trapz(x=cont, y=bb_cont)\n",
    "print('p_bol (Evryscope, ignoring <5% transmission) = ', float(EGP_Econt) * Econt_Ebol)"
   ]
  },
  {
   "cell_type": "markdown",
   "metadata": {},
   "source": [
    "We differ slightly because of our choice not to include wavelengths that have less than 5% transmission.  Indeed, if you change the 'min_trans' value to 0.0 instead of 0.05 above, we also get 0.19 as reported in Howard et al. (2019)."
   ]
  },
  {
   "cell_type": "code",
   "execution_count": null,
   "metadata": {},
   "outputs": [],
   "source": []
  }
 ],
 "metadata": {
  "kernelspec": {
   "display_name": "Python 3",
   "language": "python",
   "name": "python3"
  },
  "language_info": {
   "codemirror_mode": {
    "name": "ipython",
    "version": 3
   },
   "file_extension": ".py",
   "mimetype": "text/x-python",
   "name": "python",
   "nbconvert_exporter": "python",
   "pygments_lexer": "ipython3",
   "version": "3.7.4"
  }
 },
 "nbformat": 4,
 "nbformat_minor": 2
}
