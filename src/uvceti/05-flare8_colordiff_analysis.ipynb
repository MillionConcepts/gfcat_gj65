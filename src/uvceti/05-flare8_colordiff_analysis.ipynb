{
 "cells": [
  {
   "cell_type": "code",
   "execution_count": 1,
   "metadata": {},
   "outputs": [],
   "source": [
    "from matplotlib import pyplot as plt\n",
    "from matplotlib.ticker import ScalarFormatter\n",
    "import numpy as np\n",
    "import os\n",
    "from astropy.modeling.blackbody import blackbody_lambda\n",
    "from astropy import units as u\n",
    "plt.rcParams.update({'font.size': 18})"
   ]
  },
  {
   "cell_type": "code",
   "execution_count": 2,
   "metadata": {},
   "outputs": [],
   "source": [
    "# Import the function definitions that accompany this notebook tutorial.\n",
    "nb_funcdef_file = \"function_defs.py\"\n",
    "if os.path.isfile(nb_funcdef_file):\n",
    "    from function_defs import make_lightcurve, listdir_contains\n",
    "else:\n",
    "    raise IOError(\"Could not find function definition file '\" + nb_funcdef_file + \"' that goes with this notebook.\")"
   ]
  },
  {
   "cell_type": "code",
   "execution_count": 3,
   "metadata": {},
   "outputs": [],
   "source": [
    "# Restore the output directory.  Note: this assumes you've run the \"generate_products\" notebook already.  If not you\n",
    "# will need to specify the location of the products made from the \"generate_products\" notebook.\n",
    "%store -r data_directory\n",
    "# If you have not run the \"generate_products\" notebook during this session, uncomment the line below and specify\n",
    "# the location of the output products.\n",
    "#data_directory = \"./raw_files/\""
   ]
  },
  {
   "cell_type": "code",
   "execution_count": 4,
   "metadata": {},
   "outputs": [],
   "source": [
    "# Restore the skypos parameter.  Note: this assumes you've run the \"generate_products\" notebook already.  If not you\n",
    "# will need to specify the sky position to use.\n",
    "%store -r skypos\n",
    "# If you have not run the \"generate_products\" notebook during this session, uncomment the line below and specify\n",
    "# the sky position in degrees.\n",
    "#skypos = (24.76279, -17.94948)"
   ]
  },
  {
   "cell_type": "code",
   "execution_count": 5,
   "metadata": {},
   "outputs": [],
   "source": [
    "# Locate the photon files.\n",
    "photon_files = {'NUV':listdir_contains(data_directory,'nd.csv'),\n",
    "                'FUV':listdir_contains(data_directory,'fd.csv')}"
   ]
  },
  {
   "cell_type": "code",
   "execution_count": 6,
   "metadata": {},
   "outputs": [],
   "source": [
    "# Since this flare has such a large count rate, we can make a 5-second light curve to explore it's shape in detail.\n",
    "# Flare #8 is in Visit #5 (index 4 in our array of .csv files.)\n",
    "lc_nuv = make_lightcurve(photon_files['NUV'][4], 'NUV', stepsz=5., skypos=skypos, quiet=True, makefile=False)\n",
    "lc_fuv = make_lightcurve(photon_files['FUV'][4], 'FUV', stepsz=5., skypos=skypos, fixed_t0=lc_nuv['t0'].min(),\n",
    "                             quiet=True, makefile=False)"
   ]
  },
  {
   "cell_type": "code",
   "execution_count": 7,
   "metadata": {},
   "outputs": [
    {
     "name": "stdout",
     "output_type": "stream",
     "text": [
      "Max. cps for FUV = 158.7857090114415\n",
      "Max. cps for NUV = 838.5825824857579\n"
     ]
    },
    {
     "data": {
      "image/png": "[encoded data removed]",
      "text/plain": [
       "<Figure size 720x576 with 2 Axes>"
      ]
     },
     "metadata": {
      "needs_background": "light"
     },
     "output_type": "display_data"
    }
   ],
   "source": [
    "# The flare can get quite bright.  Let's check the counts per second to make sure none of them\n",
    "# exceed the non-linearity regime of the GALEX detectors.\n",
    "# We want to avoid any count rates above the 10% local non-linearity dropoff of the detectors.  These values\n",
    "# are taken from the Morrissey et al. 2007 GALEX calibration paper.\n",
    "nuv_10p_nonlincps = 311.\n",
    "fuv_10p_nonlincps = 109.\n",
    "print(\"Max. cps for FUV = \" + str(max(lc_fuv['cps'])))\n",
    "print(\"Max. cps for NUV = \" + str(max(lc_nuv['cps'])))\n",
    "fig, (ax1, ax2) = plt.subplots(2, 1, figsize=(10, 8), constrained_layout=True, sharex=True)\n",
    "ax1.plot(lc_fuv['t0']-lc_fuv['t0'][0], lc_fuv['cps'], 'bo')\n",
    "ax2.plot(lc_nuv['t0']-lc_nuv['t0'][0], lc_nuv['cps'], 'ko')\n",
    "ax1.axhline(fuv_10p_nonlincps, color='r', linestyle='--')\n",
    "ax2.axhline(nuv_10p_nonlincps, color='r', linestyle='--')\n",
    "ax1.set_xlim(1150., 1700.)\n",
    "ax2.set_xlim(1150., 1700.)\n",
    "ax1.set_ylabel(\"FUV cps\")\n",
    "ax2.set_ylabel(\"NUV cps\")\n",
    "plt.show()"
   ]
  },
  {
   "cell_type": "markdown",
   "metadata": {},
   "source": [
    "Unfortuantely, the majoriy of the flare in both bands exceeds the local non-linearity regime for the GALEX detectors. This means there is an expected flux suppression: following the VERY approximate estimation formula in the Morrissey et al. 2007 GALEX calibration paper, the suppression would be 30% and 25% at peak count rates in the NUV and FUV, respectively.  But that estimate has a large (and uncharacterized) uncertainty around it: even the white dwarf standards used to derive the empirical correction show huge scatter for a given expected count rate.  For example, see the range in measured count rate for the multiple data points at an expected count rate of 800 cps in Fig. 8 in Morrissey et al. 2007: those imply actual corrections between 0% and a factor of four.  Given that there is no well-tested way to correct for lost flux due to local non-linearity in the GALEX detectors, an FUV-NUV band ratio analysis during the flare is not possible.  See the paper associated with this repository for a further discussion on the matter."
   ]
  }
 ],
 "metadata": {
  "kernelspec": {
   "display_name": "Python 3",
   "language": "python",
   "name": "python3"
  },
  "language_info": {
   "codemirror_mode": {
    "name": "ipython",
    "version": 3
   },
   "file_extension": ".py",
   "mimetype": "text/x-python",
   "name": "python",
   "nbconvert_exporter": "python",
   "pygments_lexer": "ipython3",
   "version": "3.6.10"
  }
 },
 "nbformat": 4,
 "nbformat_minor": 2
}
