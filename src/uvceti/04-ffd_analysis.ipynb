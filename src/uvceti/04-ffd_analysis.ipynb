{
 "cells": [
  {
   "cell_type": "code",
   "execution_count": null,
   "metadata": {},
   "outputs": [],
   "source": [
    "import gPhoton.gFind as gFind\n",
    "from gPhoton.gphoton_utils import calculate_jd, calculate_caldat\n",
    "import numpy as np\n",
    "import os\n",
    "import matplotlib.pyplot as plt\n",
    "from matplotlib.collections import PatchCollection\n",
    "from matplotlib.patches import Rectangle\n",
    "plt.rcParams.update({'font.size': 16})"
   ]
  },
  {
   "cell_type": "markdown",
   "metadata": {},
   "source": [
    "First let's calculate the flare frequency distribution in two ways, one assuming all the flares come from one of the two stars in the GJ 65 system, the other assuming they are split equally between the two.  These provide upper and lower limits since it's a binary and we don't resolve it so we don't know which flare comes from which star in the system."
   ]
  },
  {
   "cell_type": "code",
   "execution_count": null,
   "metadata": {},
   "outputs": [],
   "source": [
    "# This script will use gFind to calculate the total observation time, ignoring\n",
    "# the two AIS visits.  Note: this cell can take a few minutes to run \n",
    "# while it does the necessary queries.\n",
    "tot_time_noais = 0\n",
    "x = gFind(band=\"NUV\", skypos=[24.755006, -17.950739], detsize=1.25)\n",
    "for tstart, tend in zip(x['NUV']['t0'][:-2], x['NUV']['t1'][:-2]):\n",
    "        print(str(calculate_jd(tstart)) + ', ' + str(calculate_caldat(tstart)) + \" | \" + str(calculate_jd(tend)) + \", \" + str(calculate_caldat(tend)) + ' -> ' + str((calculate_jd(tend) - calculate_jd(tstart))*24.*60.))\n",
    "        tot_time_noais = tot_time_noais + (tend-tstart)\n",
    "print(\"Total time on source (no AIS): \" + str(tot_time_noais / 3600.) + \" hours.\")\n",
    "print(\"Total time on source (no AIS) in seconds: \" + str(tot_time_noais) + \" seconds.\")"
   ]
  },
  {
   "cell_type": "code",
   "execution_count": null,
   "metadata": {},
   "outputs": [],
   "source": [
    "# Total number of detected flares.  See Section 4.1 in the paper for which flares we include here and why we exclude\n",
    "# others.  Flares 2 and 12 because we aren't sure the peak is seen in the visit, Flare 8 because it is the only one\n",
    "# outside our energy bin of 28.5 < log(E) < 29.5, and Flare 10 which is heavily truncated at the start of the visit.\n",
    "# Thus we are left with 11 flares that with our criteria for FFD calculation.\n",
    "n_flares = 11\n",
    "# Total time in minutes spent on source where flares could be detected.\n",
    "n_minutes = 15682. / 60.\n",
    "# Use how many sigma when reporting the uncertainties?\n",
    "sigma = 1"
   ]
  },
  {
   "cell_type": "code",
   "execution_count": null,
   "metadata": {},
   "outputs": [],
   "source": [
    "# Calculation assuming all flares come from the same single star in the binary system.\n",
    "flare_rate_single = n_flares / n_minutes\n",
    "flare_rate_single_err = np.sqrt(n_flares) / n_minutes\n",
    "print(f'One star: {flare_rate_single} +/- {sigma*flare_rate_single_err} flares per minute')\n",
    "rate_single = np.log10(flare_rate_single*60)\n",
    "rate_err_single = np.log10((flare_rate_single + sigma*flare_rate_single_err)*60) - np.log10(flare_rate_single*60)\n",
    "print(f'log10(#/hr) = {rate_single} +/- {rate_err_single}')"
   ]
  },
  {
   "cell_type": "code",
   "execution_count": null,
   "metadata": {},
   "outputs": [],
   "source": [
    "# Calculation assuming flares are distributed equally between the two stars in the binary system.\n",
    "flare_rate_split = n_flares / 2 / n_minutes\n",
    "flare_rate_split_err = np.sqrt(n_flares / 2) / n_minutes\n",
    "print(f'Two stars: {flare_rate_split} +/- {sigma*flare_rate_split_err} flares per minute')\n",
    "rate_split = np.log10(flare_rate_split*60)\n",
    "rate_err_split = np.log10((flare_rate_split + sigma*flare_rate_split_err)*60) - np.log10(flare_rate_split*60)\n",
    "print(f'log10(#/hr) = {rate_split} +/- {rate_err_split}')"
   ]
  },
  {
   "cell_type": "markdown",
   "metadata": {},
   "source": [
    "Now let's compare this FFD with extrapolations from some other sources.  As shown in the first notebook in the repository, the (very approximate!) bolometric corrections from the NUV, Johnson U band, Kepler, and TESS bandpasses are all similar to within a factor of two, thus we do not attempt to correct the FFD energy bins between these filters, since they are all tracking comparable fractions of the total energy for a flare, and none would result in major shifts in bins by changing energies by an order of magnitude."
   ]
  },
  {
   "cell_type": "code",
   "execution_count": null,
   "metadata": {},
   "outputs": [],
   "source": [
    "# Flare rate from Hilton et al. 2011 for \"M3-M5 Active\" sample. Energies are in log(E) in Johnson U-band.\n",
    "hilton_alpha = -0.53\n",
    "hilton_alpha_err = 0.04\n",
    "hilton_beta = 15.70\n",
    "hilton_beta_err = 1.2\n",
    "hilton_emin = 29.41\n",
    "hilton_emax = 33.58\n",
    "# Generate array of x and y values based on the range of energies we are looking at.\n",
    "hilton_xvals = np.linspace(28., 34., 50)\n",
    "hilton_yvals = [hilton_beta + hilton_alpha*x for x in hilton_xvals]"
   ]
  },
  {
   "cell_type": "code",
   "execution_count": null,
   "metadata": {},
   "outputs": [],
   "source": [
    "# Individual FFD from Davenport et al. 2016. There is only one star with\n",
    "# an estimated isochrone mass near an M5: KIC 5683912 = V541 Lyr.\n",
    "davenport_alpha = -0.83\n",
    "davenport_beta = 22.84\n",
    "# Generate array of x and y values based on the range of energies we are looking at.\n",
    "davenport_xvals = np.linspace(28., 34., 50)\n",
    "davenport_yvals = [davenport_beta + davenport_alpha*x for x in davenport_xvals]"
   ]
  },
  {
   "cell_type": "code",
   "execution_count": null,
   "metadata": {},
   "outputs": [],
   "source": [
    "# FFD rates from Guenther et al. 2020 using TESS for mid-M dwarfs.\n",
    "guenther_file = \"catalog_per_star_final.csv\"\n",
    "if not os.path.isfile(guenther_file):\n",
    "    raise IOError(\"Missing FFD reference file: \" + guenther_file + \" from repository.\")\n",
    "(tic_id,_,_,_,_,_,_,_,_,_,_,_,_,teff,radius,logg,_,_,_,_,FFD_alpha,FFD_beta,_,_,_,_) = np.genfromtxt(\n",
    "    guenther_file,unpack=True,dtype=float,comments='#',delimiter=',')\n",
    "# We only want to plot the FFDs from their sample for stars roughly similar to M5, so let's\n",
    "# use some approximate ranges for M3-M6 or so.\n",
    "teff_min = 2500.\n",
    "teff_max = 3250.\n",
    "# We'll loop through and plot these later in the cell that makes the figure."
   ]
  },
  {
   "cell_type": "code",
   "execution_count": null,
   "metadata": {},
   "outputs": [],
   "source": [
    "# FFD rates from Howard et al. 2019 from Evryscope.\n",
    "howard_alpha = -0.97\n",
    "howard_beta = 30.45\n",
    "# Generate array of x and y values based on the range of energies we are looking at.\n",
    "howard_xvals = np.linspace(28., 34., 50)\n",
    "howard_yvals = [howard_beta + howard_alpha*x for x in howard_xvals]"
   ]
  },
  {
   "cell_type": "code",
   "execution_count": null,
   "metadata": {},
   "outputs": [],
   "source": [
    "# Plot FFD for each group's results.  NOTE: The grey lines for the Gunther et al. FFDs may appear very transparent\n",
    "# in the notebook, but should be quite visible in the plot itself.  You can also turn transparency off and plot in\n",
    "# a different color if you prefer by editing the two ax.plot() commands usiing the \"gunther\" values.\n",
    "fig, ax = plt.subplots(1,figsize=(10,8))\n",
    "\n",
    "# Plot the M3-M6 dwarf sample from Guenther et al.\n",
    "guenther_xvals = np.linspace(28., 34., 50)\n",
    "# This will make it so we only apply a label legend for this sample once.\n",
    "first_guenther = False\n",
    "for t,r,a,b in zip(teff,radius,FFD_alpha,FFD_beta):\n",
    "    if t >= teff_min and t <= teff_max:\n",
    "        these_guenther_yvals = [b + a*x for x in guenther_xvals]\n",
    "        if not first_guenther:\n",
    "            ax.plot(guenther_xvals, these_guenther_yvals, color='0.9',\n",
    "                    label=\"Guenther et al. 2020, Teff: {0:4.0f}-{1:4.0f} K (TESS)\".format(\n",
    "                        teff_min, teff_max), zorder=1)\n",
    "            first_guenther = True\n",
    "        else:\n",
    "            ax.plot(guenther_xvals, these_guenther_yvals, color='0.9', zorder=1)\n",
    "\n",
    "# Plot Hilton et al. FFD relation.\n",
    "ax.plot(hilton_xvals, hilton_yvals, color='m',\n",
    "        label=\"Hilton et al. 2011 M3-M5 Active (Johnson U)\", zorder=2)\n",
    "# Plot Davenport et al. FFD based on KIC 5683912.\n",
    "ax.plot(davenport_xvals, davenport_yvals, color='m', linestyle='dashed',\n",
    "        label=\"Davenport et al. 2016, KIC 5683912 (Kepler)\", zorder=2)\n",
    "# Plot Howard et al. FFD based on 'active M4' group.\n",
    "ax.plot(howard_xvals, howard_yvals, color='m', linestyle='dotted',\n",
    "        label=\"Howard et al. 2019, Active M4 Sample (Evryscope g')\", zorder=2)\n",
    "\n",
    "# Plot our estimated value between 28.5-29.5 log(E).\n",
    "rect = Rectangle((28.5,rate_split-rate_err_split), 1.0,\n",
    "                 rate_single+rate_err_single - (rate_split-rate_err_split),\n",
    "                label=\"GJ 65, This Work\", color='b', zorder=3)\n",
    "ax.add_patch(rect)\n",
    "\n",
    "# Refine plot ranges.\n",
    "ax.set_xlim([28., 34.])\n",
    "ax.set_xlabel(\"Flare Energy log(E_filter), Not Bolometric\")\n",
    "ax.set_ylabel(\"Flare Rate log(#/hr)\")\n",
    "lgd = ax.legend(loc=\"upper center\", bbox_to_anchor=(0.0,1.2,1.0,0.102), ncol=1, mode=\"expand\")\n",
    "fig.savefig(\"figures/ffd.eps\", dpi=600,\n",
    "                bbox_extra_artists=(lgd,), bbox_inches='tight')"
   ]
  }
 ],
 "metadata": {
  "kernelspec": {
   "display_name": "Python 3",
   "language": "python",
   "name": "python3"
  },
  "language_info": {
   "codemirror_mode": {
    "name": "ipython",
    "version": 3
   },
   "file_extension": ".py",
   "mimetype": "text/x-python",
   "name": "python",
   "nbconvert_exporter": "python",
   "pygments_lexer": "ipython3",
   "version": "3.6.8"
  }
 },
 "nbformat": 4,
 "nbformat_minor": 2
}
