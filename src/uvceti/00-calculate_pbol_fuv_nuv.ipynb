{
 "cells": [
  {
   "cell_type": "code",
   "execution_count": 1,
   "metadata": {},
   "outputs": [],
   "source": [
    "import numpy as np\n",
    "from scipy import integrate\n",
    "from astropy.modeling.blackbody import blackbody_lambda\n",
    "from astropy import units as u"
   ]
  },
  {
   "cell_type": "code",
   "execution_count": 2,
   "metadata": {},
   "outputs": [],
   "source": [
    "# Ratio of continuum energy to bolometric energy, per Osten & Wolk (2015).\n",
    "Econt_Ebol = 0.6"
   ]
  },
  {
   "cell_type": "code",
   "execution_count": 3,
   "metadata": {},
   "outputs": [],
   "source": [
    "# Calculate continuum emission of 10,000 K blackbody.\n",
    "cont = np.arange(1400, 10000, 1) * u.AA\n",
    "bb_cont = blackbody_lambda(in_x=cont, temperature=10000 * u.Kelvin)"
   ]
  },
  {
   "cell_type": "code",
   "execution_count": 4,
   "metadata": {},
   "outputs": [
    {
     "name": "stdout",
     "output_type": "stream",
     "text": [
      "p_bol (NUV) =  0.13152561432613658\n"
     ]
    }
   ],
   "source": [
    "# Reproduce the NUV calculation from Brasseur et al. (2019) of the fraction of the bolometric luminosity contained\n",
    "# within the GALEX NUV band.\n",
    "nuv = np.arange(1771, 2831, 1) * u.AA\n",
    "bb_nuv = blackbody_lambda(in_x=nuv, temperature=10000 * u.Kelvin)\n",
    "ENUV_Econt = np.trapz(x=nuv, y=bb_nuv) / np.trapz(x=cont, y=bb_cont)\n",
    "print('p_bol (NUV) = ', float(ENUV_Econt) * Econt_Ebol)"
   ]
  },
  {
   "cell_type": "code",
   "execution_count": 5,
   "metadata": {},
   "outputs": [
    {
     "name": "stdout",
     "output_type": "stream",
     "text": [
      "p_bol (FUV) =  0.02113580081974664\n"
     ]
    }
   ],
   "source": [
    "# Compute the fraction of the bolometric luminosity contained within the GALEX FUV band.\n",
    "fuv = np.arange(1344, 1786, 1) * u.AA\n",
    "bb_fuv = blackbody_lambda(in_x=fuv, temperature=10000 * u.Kelvin)\n",
    "EFUV_Econt = np.trapz(x=fuv, y=bb_fuv) / np.trapz(x=cont, y=bb_cont)\n",
    "print('p_bol (FUV) = ', float(EFUV_Econt) * Econt_Ebol)"
   ]
  }
 ],
 "metadata": {
  "kernelspec": {
   "display_name": "Python 3",
   "language": "python",
   "name": "python3"
  },
  "language_info": {
   "codemirror_mode": {
    "name": "ipython",
    "version": 3
   },
   "file_extension": ".py",
   "mimetype": "text/x-python",
   "name": "python",
   "nbconvert_exporter": "python",
   "pygments_lexer": "ipython3",
   "version": "3.6.8"
  }
 },
 "nbformat": 4,
 "nbformat_minor": 2
}
